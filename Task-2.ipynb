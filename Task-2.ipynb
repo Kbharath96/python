{
 "cells": [
  {
   "cell_type": "markdown",
   "id": "a35287a4",
   "metadata": {},
   "source": [
    "#                                        Task-2"
   ]
  },
  {
   "cell_type": "markdown",
   "id": "63b00ea0",
   "metadata": {},
   "source": [
    "# "
   ]
  },
  {
   "cell_type": "markdown",
   "id": "ee16633c",
   "metadata": {},
   "source": [
    "# 1) Write a program to accept two numbers from the user and calculate multiplication, division\n"
   ]
  },
  {
   "cell_type": "code",
   "execution_count": 5,
   "id": "fd42b085",
   "metadata": {},
   "outputs": [
    {
     "name": "stdout",
     "output_type": "stream",
     "text": [
      "8\n",
      "2\n",
      "multiplication of two number 8*2=16\n",
      "division of two number 8//2=4\n"
     ]
    }
   ],
   "source": [
    "a=int(input())\n",
    "b=int(input())\n",
    "print(\"multiplication of two number {}*{}={}\".format(a,b,a*b))\n",
    "print(\"division of two number {}//{}={}\".format(a,b,a//b))"
   ]
  },
  {
   "cell_type": "markdown",
   "id": "aa0469d9",
   "metadata": {},
   "source": [
    "# 2Q) Write a python program to print the characters from a string that are present at an even index\n"
   ]
  },
  {
   "cell_type": "code",
   "execution_count": 36,
   "id": "230ae2ce",
   "metadata": {},
   "outputs": [
    {
     "name": "stdout",
     "output_type": "stream",
     "text": [
      "innomatics\n",
      "i\n",
      "n\n",
      "m\n",
      "t\n",
      "c\n"
     ]
    }
   ],
   "source": [
    "a=input()\n",
    "for z in range(len(a)):\n",
    "    if z%2==0:\n",
    "        b=a[z]\n",
    "        print(b)"
   ]
  },
  {
   "cell_type": "markdown",
   "id": "a2c3277e",
   "metadata": {},
   "source": [
    "# 3Q) Write a python program to print the characters from a string that are present at an odd index\n"
   ]
  },
  {
   "cell_type": "code",
   "execution_count": 38,
   "id": "a6a3f71e",
   "metadata": {},
   "outputs": [
    {
     "name": "stdout",
     "output_type": "stream",
     "text": [
      "innomatics\n",
      "n\n",
      "o\n",
      "a\n",
      "i\n",
      "s\n"
     ]
    }
   ],
   "source": [
    "p=input()\n",
    "for w in range(len(p)):\n",
    "    if w%2!=0:\n",
    "        q=p[w]\n",
    "        print(q)"
   ]
  },
  {
   "cell_type": "markdown",
   "id": "cf239521",
   "metadata": {},
   "source": [
    "# 4Q) Write a python program which will print the sum of the two numbers if the two numbers are even or it will print the difference of two numbers."
   ]
  },
  {
   "cell_type": "code",
   "execution_count": 42,
   "id": "4edfb24a",
   "metadata": {},
   "outputs": [
    {
     "name": "stdout",
     "output_type": "stream",
     "text": [
      "4\n",
      "3\n",
      "1\n"
     ]
    }
   ],
   "source": [
    "a=int(input())\n",
    "b=int(input())\n",
    "if a%2==0 and b%2==0:\n",
    "    print(a+b)\n",
    "else:\n",
    "    print(a-b)\n",
    "    "
   ]
  },
  {
   "cell_type": "markdown",
   "id": "07eb9115",
   "metadata": {},
   "source": [
    "# 5Q) Write a python program to convert all even indexed alphabets to upper and odd indexed char"
   ]
  },
  {
   "cell_type": "code",
   "execution_count": 48,
   "id": "d96aecb8",
   "metadata": {},
   "outputs": [
    {
     "name": "stdout",
     "output_type": "stream",
     "text": [
      "innomaticskukatpally\n",
      "I\n",
      "n\n",
      "N\n",
      "o\n",
      "M\n",
      "a\n",
      "T\n",
      "i\n",
      "C\n",
      "s\n",
      "K\n",
      "u\n",
      "K\n",
      "a\n",
      "T\n",
      "p\n",
      "A\n",
      "l\n",
      "L\n",
      "y\n"
     ]
    }
   ],
   "source": [
    "var=input()\n",
    "for a in range(len(var)):\n",
    "    if a%2==0:\n",
    "        print(var[a].upper())\n",
    "    else:\n",
    "        print(var[a].lower())"
   ]
  },
  {
   "cell_type": "markdown",
   "id": "cb500520",
   "metadata": {},
   "source": [
    "# 6Q) Write a python program which will print True if the input number is divisible by 5 or else False"
   ]
  },
  {
   "cell_type": "code",
   "execution_count": 51,
   "id": "b4ad9d89",
   "metadata": {},
   "outputs": [
    {
     "name": "stdout",
     "output_type": "stream",
     "text": [
      "36\n",
      "False\n"
     ]
    }
   ],
   "source": [
    "a=int(input())\n",
    "if a%5==0:\n",
    "    print(\"True\")\n",
    "else:\n",
    "    print(\"False\")"
   ]
  },
  {
   "cell_type": "markdown",
   "id": "62c1d5c5",
   "metadata": {},
   "source": [
    "# 7Q) Given two integer numbers return their product only if the product is greater than 1000, else return their sum"
   ]
  },
  {
   "cell_type": "code",
   "execution_count": 71,
   "id": "a21263c7",
   "metadata": {},
   "outputs": [
    {
     "name": "stdout",
     "output_type": "stream",
     "text": [
      "350\n",
      "4\n",
      "1400\n"
     ]
    }
   ],
   "source": [
    "a=int(input())\n",
    "b=int(input())\n",
    "if a*b>1000:\n",
    "    print(a*b)\n",
    "else:\n",
    "    print(a+b)"
   ]
  },
  {
   "cell_type": "markdown",
   "id": "1d9a346a",
   "metadata": {},
   "source": [
    "# 8Q) Given two strings x, y writes a program to return a new string made of x and y’s first, middle, and last characters.\n",
    "example:                                                                                                                       \n",
    "Input:                                                                                                                           \n",
    "X= \"pytho\"                                                                                                                   \n",
    "Y= \"javas\"\n",
    "\n",
    "Output:                                                                                                                       \n",
    "\"pjtvos\"\n"
   ]
  },
  {
   "cell_type": "code",
   "execution_count": 16,
   "id": "2faf1a52",
   "metadata": {},
   "outputs": [
    {
     "name": "stdout",
     "output_type": "stream",
     "text": [
      "enter the number1 :python\n",
      "enter the number2 :java\n",
      "pjhvna\n"
     ]
    }
   ],
   "source": [
    "a=input(\"enter the number1 :\")\n",
    "b=input(\"enter the number2 :\")\n",
    "p=int(len(a)/2)\n",
    "q=int(len(b)/2)\n",
    "print(a[0]+b[0]+a[p]+b[q]+a[-1]+b[-1])"
   ]
  },
  {
   "cell_type": "markdown",
   "id": "65773364",
   "metadata": {},
   "source": [
    "# 9Q) Write a python program to take three names as input from a user in the single input () function call\n",
    "Example:                                                                                                                       \n",
    "Input:                                                                                                                         \n",
    "Enter three names: - “person1 person2 person3”                                                                                \n",
    "Output:                                                                                                                        \n",
    "Name1: - “person1”                                                                                                             \n",
    "Name2: - “person2”                                                                                                             \n",
    "Name3: - “person3”                                                                                                                 "
   ]
  },
  {
   "cell_type": "code",
   "execution_count": 93,
   "id": "a7624739",
   "metadata": {},
   "outputs": [
    {
     "name": "stdout",
     "output_type": "stream",
     "text": [
      "Name1:- person1\n",
      "Name2:- person2\n",
      "Name3:- person3\n"
     ]
    }
   ],
   "source": [
    "user =\"person1 person2 person3\"\n",
    "b=user.split()\n",
    "print(\"Name1:-\",b[0])\n",
    "print(\"Name2:-\",b[1])\n",
    "print(\"Name3:-\",b[2])"
   ]
  },
  {
   "cell_type": "markdown",
   "id": "70ca4a75",
   "metadata": {},
   "source": [
    "# 10) Write a Python program to get a string from a given string where all occurrences of its first char have been changed to '@', except the first char itself.\n",
    "Example:                                                                                                                      \n",
    "Input: malayalam                                                                                                               \n",
    "Output:'malayala@'                                                                                                             \n",
    "Input:' abcabab'                                                                                                              \n",
    "Output:‘abc@b@b’"
   ]
  },
  {
   "cell_type": "code",
   "execution_count": 31,
   "id": "48445ec7",
   "metadata": {},
   "outputs": [
    {
     "name": "stdout",
     "output_type": "stream",
     "text": [
      "malayala@\n"
     ]
    }
   ],
   "source": [
    "y=\"malayalam\"\n",
    "z=y[0]\n",
    "for x in y:\n",
    "    y=y.replace(y[0],\"@\")\n",
    "    y= z + y[1: ]\n",
    "print(y)"
   ]
  },
  {
   "cell_type": "code",
   "execution_count": 36,
   "id": "08295ea8",
   "metadata": {},
   "outputs": [
    {
     "name": "stdout",
     "output_type": "stream",
     "text": [
      "abc@b@b\n"
     ]
    }
   ],
   "source": [
    "p=\"abcabab\"\n",
    "q=p[0]\n",
    "for z in p:\n",
    "    p=p.replace(p[0],\"@\")\n",
    "    p=q + p[1: ]\n",
    "print(p)"
   ]
  },
  {
   "cell_type": "markdown",
   "id": "0313a5bf",
   "metadata": {},
   "source": [
    "# 11) Write a Python program to add 'ing' at the end of a given string (string length should be equal to or more than 3). If the given string already ends with 'ing' then add 'ly' instead. If the string length of the given string is less than 3, leave it unchanged\n",
    "Example:                                                                                                                       \n",
    "Input: 'sing’                                                                                                                   \n",
    "Output: 'singing'                                                                                                               \n",
    "Input:  'playing'                                                                                                               \n",
    "Output:  ‘playly’                                                                                                             \n",
    "Input: 'on'                                                                                                                    \n",
    "Output: \"on\""
   ]
  },
  {
   "cell_type": "code",
   "execution_count": 23,
   "id": "e59f12bf",
   "metadata": {},
   "outputs": [
    {
     "name": "stdout",
     "output_type": "stream",
     "text": [
      "sing\n",
      "['singing']\n"
     ]
    }
   ],
   "source": [
    "a=input()\n",
    "b=[]\n",
    "if len(a)>=3:\n",
    "    a=b.append(a+\"ing\")\n",
    "    print(b)\n",
    "elif len(a)>=3 and a.endwith(\"ing\"):\n",
    "    b=a.replace(\"ing\",\"ly\")\n",
    "    print(b)\n",
    "elif len(a)<3:\n",
    "    b.append(a)\n",
    "    print(b)"
   ]
  },
  {
   "cell_type": "markdown",
   "id": "d1a6b141",
   "metadata": {},
   "source": [
    "# 12Q) Write a python program that accepts two inputs num1 and num2 print True if one of them is 10 or if their sum is 10 otherwise print False"
   ]
  },
  {
   "cell_type": "code",
   "execution_count": 30,
   "id": "f3a57a55",
   "metadata": {},
   "outputs": [
    {
     "name": "stdout",
     "output_type": "stream",
     "text": [
      "10\n",
      "8\n",
      "True\n"
     ]
    }
   ],
   "source": [
    "num1=int(input())\n",
    "num2=int(input())\n",
    "if num1==10 or num2 ==10:\n",
    "    print(\"True\")\n",
    "elif num1!=10 and num2 !=10:\n",
    "    print(\"False\")"
   ]
  },
  {
   "cell_type": "markdown",
   "id": "4eec651c",
   "metadata": {},
   "source": [
    "# 13Q)  Write a python program that accepts three inputs x, y and z print True if x*y>z otherwise False ."
   ]
  },
  {
   "cell_type": "code",
   "execution_count": 32,
   "id": "68de9e0c",
   "metadata": {},
   "outputs": [
    {
     "name": "stdout",
     "output_type": "stream",
     "text": [
      "9\n",
      "6\n",
      "100\n",
      "False\n"
     ]
    }
   ],
   "source": [
    "x=int(input())\n",
    "y=int(input())\n",
    "z=int(input())\n",
    "if x*y>z:\n",
    "    print(\"True\")\n",
    "else:\n",
    "    print(\"False\")"
   ]
  },
  {
   "cell_type": "markdown",
   "id": "c87e01be",
   "metadata": {},
   "source": [
    "# 14Q)  Write a python program that accepts two strings inputs return True depending on whether the total number of characters in the first string is equal to the total number of characters in the second string"
   ]
  },
  {
   "cell_type": "code",
   "execution_count": 35,
   "id": "21dd6864",
   "metadata": {},
   "outputs": [
    {
     "name": "stdout",
     "output_type": "stream",
     "text": [
      "Kunsoth\n",
      "Bharath\n",
      "True\n"
     ]
    }
   ],
   "source": [
    "a=input()\n",
    "b=input()\n",
    "if len(a)==len(b):\n",
    "    print(\"True\")\n",
    "else:\n",
    "    print(\"False\")"
   ]
  },
  {
   "cell_type": "markdown",
   "id": "7feb31bb",
   "metadata": {},
   "source": [
    "# 15Q) Write a python program that takes a string input, we'll say that the front is the first three characters of the string. If the string length is less than three characters, the front is whatever is there. Return a new string, which is three copies of the front\n"
   ]
  },
  {
   "cell_type": "code",
   "execution_count": 38,
   "id": "5269f2e0",
   "metadata": {},
   "outputs": [
    {
     "name": "stdout",
     "output_type": "stream",
     "text": [
      "pythonjava\n",
      "pytpytpyt\n"
     ]
    }
   ],
   "source": [
    "a=input()\n",
    "if len(a)<=3:\n",
    "    print(a)\n",
    "else:\n",
    "    print(a[ : 3]*3)"
   ]
  },
  {
   "cell_type": "markdown",
   "id": "4bc2d907",
   "metadata": {},
   "source": [
    "# 16Q)  Write a python program that takes in a word and determines whether or not it is plural. A plural word is one that ends in \"s\".\n"
   ]
  },
  {
   "cell_type": "code",
   "execution_count": 43,
   "id": "8b880bff",
   "metadata": {},
   "outputs": [
    {
     "name": "stdout",
     "output_type": "stream",
     "text": [
      "chichas\n",
      "Plural\n"
     ]
    }
   ],
   "source": [
    "word=input()\n",
    "if word.endswith(\"s\"):\n",
    "    print(\"Plural\")\n",
    "else:\n",
    "    print(\"Singular\")"
   ]
  },
  {
   "cell_type": "markdown",
   "id": "f00c7c16",
   "metadata": {},
   "source": [
    "# 17Q) A bartender is writing a simple program to determine whether he should serve drinks to someone. He only serves drinks to people 18 and older and when he's not on break (True means break and False means not a break time). Given the person's age, and whether break time is in session, create a python program which prints whether he should serve drinks or not.\n"
   ]
  },
  {
   "cell_type": "code",
   "execution_count": 3,
   "id": "25f950c2",
   "metadata": {},
   "outputs": [
    {
     "name": "stdout",
     "output_type": "stream",
     "text": [
      "what is your age Python: 19\n",
      "Y/N :n\n",
      "what do you want Python sir \n"
     ]
    }
   ],
   "source": [
    "age=int(input(\"what is your age Python: \"))\n",
    "if age<18:\n",
    "    print(\"sorry! python your are is below 18\")\n",
    "else:\n",
    "    break_time=input(\"Y/N :\")\n",
    "    if break_time==\"n\":\n",
    "        print(\"what do you want Python sir \")\n",
    "    else:\n",
    "        print(\"sorry! python this is a break time\")"
   ]
  },
  {
   "cell_type": "markdown",
   "id": "0eb95f99",
   "metadata": {},
   "source": [
    "# 18) Manoj Kumar has family and friends. Help him remind them who is who. Given a string with a name, return the relation of that person to Manoj Kumar.\n",
    "Person Relation                                                                                                                 \n",
    "Shiva father                                                                                                                   \n",
    "Letha mother                                                                                                                   \n",
    "Tarun brother"
   ]
  },
  {
   "cell_type": "code",
   "execution_count": 8,
   "id": "2b909207",
   "metadata": {},
   "outputs": [
    {
     "name": "stdout",
     "output_type": "stream",
     "text": [
      "Shiva\n",
      "Hey! Manoj, shiva is your father\n"
     ]
    }
   ],
   "source": [
    "name=input()\n",
    "if name==\"Shiva\":\n",
    "    print(\"Hey! Manoj, shiva is your father\")\n",
    "elif name==\"Letha\":\n",
    "    print(\"Hey Manoj, Letha is your mother\")\n",
    "elif name==\"Tarun\":\n",
    "    print(\"Tarun is your brother\")\n",
    "else:\n",
    "    print(\"He is not from your family\")"
   ]
  },
  {
   "cell_type": "markdown",
   "id": "2f5c7ba8",
   "metadata": {},
   "source": [
    "# 19) Write a python program that takes a string, breaks it up and returns it with vowels first, consonants second. For any character that's not a vowel (like special characters or spaces), treat them like consonants"
   ]
  },
  {
   "cell_type": "code",
   "execution_count": 9,
   "id": "5a34511d",
   "metadata": {},
   "outputs": [
    {
     "name": "stdout",
     "output_type": "stream",
     "text": [
      "abcdefghijklmnopqrstuvwxyzabe\n"
     ]
    },
    {
     "data": {
      "text/plain": [
       "'a e i o u a e b c d f g h j k l m n p q r s t v w x y z b'"
      ]
     },
     "execution_count": 9,
     "metadata": {},
     "output_type": "execute_result"
    }
   ],
   "source": [
    "atoz=input()\n",
    "vowels=[]\n",
    "cons=[]\n",
    "for x in atoz:\n",
    "    if x in (\"a\",\"e\",\"i\",\"o\",\"u\"):\n",
    "        vowels.append(x)\n",
    "    else:\n",
    "        cons.append(x)\n",
    "vowels=vowels+cons\n",
    "\" \".join(vowels)        "
   ]
  },
  {
   "cell_type": "markdown",
   "id": "1f90eeaa",
   "metadata": {},
   "source": [
    "# 20Q) Create a dynamic calculator which asks for numbers and operator and return the answers\n",
    "Example                                                                                                                        \n",
    "Input:                                                                                                                         \n",
    "Type first number: 10                                                                                                          \n",
    "Type any of this (+, -, *, /, %, **): *                                                                                        \n",
    "Assignment-2                                                                                                                   \n",
    "Type second number: 19                                                                                                         \n",
    "Output:                                                                                                                        \n",
    "Answer is 190"
   ]
  },
  {
   "cell_type": "code",
   "execution_count": 15,
   "id": "34a80cd8",
   "metadata": {},
   "outputs": [
    {
     "name": "stdout",
     "output_type": "stream",
     "text": [
      "Type 1st number: 15\n",
      "sign= *\n",
      "Type 2nd number: 3\n",
      "Answer:  45\n"
     ]
    }
   ],
   "source": [
    "input1=int(input(\"Type 1st number: \"))\n",
    "opera=input(\"sign= \")\n",
    "input2=int(input(\"Type 2nd number: \"))\n",
    "if opera==\"+\":\n",
    "    print(\"Answer : \",input1+input2)\n",
    "elif opera ==\"-\":\n",
    "    print(\"Answer : \",input1-input2)\n",
    "elif opera ==\"%\":\n",
    "    print(\"Answer: \",input1%input2)\n",
    "elif opera==\"*\":\n",
    "    print(\"Answer: \",input1*input2)\n",
    "elif opera==\"/\":\n",
    "    print(\"Answer: \",input/input2)\n",
    "else:\n",
    "    print(\"sorry python sir you have made a mistake\")"
   ]
  }
 ],
 "metadata": {
  "kernelspec": {
   "display_name": "Python 3 (ipykernel)",
   "language": "python",
   "name": "python3"
  },
  "language_info": {
   "codemirror_mode": {
    "name": "ipython",
    "version": 3
   },
   "file_extension": ".py",
   "mimetype": "text/x-python",
   "name": "python",
   "nbconvert_exporter": "python",
   "pygments_lexer": "ipython3",
   "version": "3.9.13"
  }
 },
 "nbformat": 4,
 "nbformat_minor": 5
}
