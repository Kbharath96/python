{
 "cells": [
  {
   "cell_type": "code",
   "execution_count": 21,
   "id": "c4dfd05d",
   "metadata": {},
   "outputs": [
    {
     "name": "stdout",
     "output_type": "stream",
     "text": [
      "player1 scissor\n",
      "player2 bharath\n",
      "wrong person played with scissor\n"
     ]
    }
   ],
   "source": [
    "a=input(\"player1 \")\n",
    "b=input(\"player2 \")\n",
    "if a==\"rock\":\n",
    "    if b==\"scissor\":\n",
    "        print(\"rock win the game\")\n",
    "    elif b==\"paper\":\n",
    "        print(\"paper win the game\")\n",
    "    elif b==\"rock\":\n",
    "        print(\"tie\")\n",
    "    else :\n",
    "        print(\"wrong player played with rock\")\n",
    "if a==\"paper\":\n",
    "    if b==\"rock\":\n",
    "        print(\"paper win the game\")\n",
    "    elif b==\"paper\":\n",
    "        print(\"tie\")\n",
    "    elif b==\"scissor\":\n",
    "        print(\"rock win the game\")\n",
    "    else :\n",
    "        print (\"wrong player played with paper\")\n",
    "if a==\"scissor\":\n",
    "    if b==\"paper\":\n",
    "        print(\"paper win the game\")\n",
    "    elif b==\"rock\":\n",
    "        print(\"rock win the game\")\n",
    "    elif b==\"scissor\":\n",
    "        print(\"tie\")\n",
    "    else :\n",
    "        print(\"wrong person played with scissor\")"
   ]
  },
  {
   "cell_type": "code",
   "execution_count": null,
   "id": "c5933558",
   "metadata": {},
   "outputs": [],
   "source": []
  }
 ],
 "metadata": {
  "kernelspec": {
   "display_name": "Python 3 (ipykernel)",
   "language": "python",
   "name": "python3"
  },
  "language_info": {
   "codemirror_mode": {
    "name": "ipython",
    "version": 3
   },
   "file_extension": ".py",
   "mimetype": "text/x-python",
   "name": "python",
   "nbconvert_exporter": "python",
   "pygments_lexer": "ipython3",
   "version": "3.9.13"
  }
 },
 "nbformat": 4,
 "nbformat_minor": 5
}
