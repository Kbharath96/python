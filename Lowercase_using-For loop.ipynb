{
 "cells": [
  {
   "cell_type": "code",
   "execution_count": 11,
   "id": "7fe1bd72",
   "metadata": {},
   "outputs": [
    {
     "name": "stdout",
     "output_type": "stream",
     "text": [
      "  * *\n",
      "*     *\n",
      "*     *\n",
      "*     *\n",
      "  * *  *\n"
     ]
    }
   ],
   "source": [
    "for a in range(6):\n",
    "    if a==1:\n",
    "        print(\"  * *\")\n",
    "    elif a==2:\n",
    "        print(\"*     *\")\n",
    "    elif a==3:\n",
    "        print(\"*     *\")\n",
    "    elif a==4:\n",
    "        print(\"*     *\")\n",
    "    elif a==5:\n",
    "        print(\"  * *  *\")"
   ]
  },
  {
   "cell_type": "code",
   "execution_count": 17,
   "id": "d450e9fe",
   "metadata": {},
   "outputs": [
    {
     "name": "stdout",
     "output_type": "stream",
     "text": [
      "*\n",
      "*     \n",
      "* * *\n",
      "*    *\n",
      "* * *\n"
     ]
    }
   ],
   "source": [
    "for b in range(6):\n",
    "    if b==1:\n",
    "        print(\"*\")\n",
    "    elif b==2:\n",
    "        print(\"*     \")\n",
    "    elif b==3:\n",
    "        print(\"* * *\")\n",
    "    elif b==4:\n",
    "        print(\"*    *\")\n",
    "    elif b==5:\n",
    "        print(\"* * *\")"
   ]
  },
  {
   "cell_type": "code",
   "execution_count": 19,
   "id": "586faa46",
   "metadata": {},
   "outputs": [
    {
     "name": "stdout",
     "output_type": "stream",
     "text": [
      " * * * \n",
      "*     \n",
      "* \n",
      "* \n",
      " * * *  \n"
     ]
    }
   ],
   "source": [
    "for c in range(6):\n",
    "    if c==1:\n",
    "        print(\" * * * \")\n",
    "    elif c==2:\n",
    "        print(\"*     \")\n",
    "    elif c==3:\n",
    "        print(\"* \")\n",
    "    elif c==4:\n",
    "        print(\"* \")\n",
    "    elif c==5:\n",
    "        print(\" * * *  \")"
   ]
  },
  {
   "cell_type": "code",
   "execution_count": 130,
   "id": "1a19f769",
   "metadata": {},
   "outputs": [
    {
     "name": "stdout",
     "output_type": "stream",
     "text": [
      "     * \n",
      "     *\n",
      " * * *\n",
      "*    *\n",
      " * *  *\n"
     ]
    }
   ],
   "source": [
    "for d in range(6):\n",
    "    if d==1:\n",
    "        print(\"     * \")\n",
    "    elif d==2:\n",
    "        print(\"     *\")\n",
    "    elif d==3:\n",
    "        print(\" * * *\")\n",
    "    elif d==4:\n",
    "        print(\"*    *\")\n",
    "    elif d==5:\n",
    "        print(\" * *  *\")"
   ]
  },
  {
   "cell_type": "code",
   "execution_count": 47,
   "id": "9a1bbfd4",
   "metadata": {},
   "outputs": [
    {
     "name": "stdout",
     "output_type": "stream",
     "text": [
      " * **\n",
      "*    *\n",
      "* * * \n",
      "* \n",
      " * * *  \n"
     ]
    }
   ],
   "source": [
    "for e in range(6):\n",
    "    if e==1:\n",
    "        print(\" * **\")\n",
    "    elif e==2:\n",
    "        print(\"*    *\")\n",
    "    elif e==3:\n",
    "        print(\"* * * \")\n",
    "    elif e==4:\n",
    "        print(\"* \")\n",
    "    elif e==5:\n",
    "        print(\" * * *  \")"
   ]
  },
  {
   "cell_type": "code",
   "execution_count": 43,
   "id": "d8a222b3",
   "metadata": {},
   "outputs": [
    {
     "name": "stdout",
     "output_type": "stream",
     "text": [
      "    * * \n",
      "   *   * \n",
      "   * *  \n",
      "   *\n",
      "* * * * *  \n",
      "   *\n",
      "   *\n"
     ]
    }
   ],
   "source": [
    "for f in range(8):\n",
    "    if f==1:\n",
    "        print(\"    * * \")\n",
    "    elif f==2:\n",
    "        print(\"   *   * \")\n",
    "    elif f==3:\n",
    "        print(\"   * *  \")\n",
    "    elif f==4:\n",
    "        print(\"   *\")\n",
    "    elif f==5:\n",
    "        print(\"* * * * *  \")\n",
    "    elif f==6:\n",
    "        print(\"   *\")\n",
    "    elif f==7:\n",
    "        print(\"   *\")"
   ]
  },
  {
   "cell_type": "code",
   "execution_count": 51,
   "id": "4ecccfb5",
   "metadata": {},
   "outputs": [
    {
     "name": "stdout",
     "output_type": "stream",
     "text": [
      " * * * \n",
      "*     *\n",
      " * * **\n",
      "      *\n",
      "* * * \n"
     ]
    }
   ],
   "source": [
    "for g in range(6):\n",
    "    if g==1:\n",
    "        print(\" * * * \")\n",
    "    elif g==2:\n",
    "        print(\"*     *\")\n",
    "    elif g==3:\n",
    "        print(\" * * **\")\n",
    "    elif g==4:\n",
    "        print(\"      *\")\n",
    "    elif g==5:\n",
    "        print(\"* * * \")"
   ]
  },
  {
   "cell_type": "code",
   "execution_count": 58,
   "id": "f91d6ded",
   "metadata": {},
   "outputs": [
    {
     "name": "stdout",
     "output_type": "stream",
     "text": [
      "*  \n",
      "*     \n",
      "* \n",
      "* * * *\n",
      "*      *\n",
      "*     *\n"
     ]
    }
   ],
   "source": [
    "for h in range(7):\n",
    "    if h==1:\n",
    "        print(\"*  \")\n",
    "    elif h==2:\n",
    "        print(\"*     \")\n",
    "    elif h==3:\n",
    "        print(\"* \")\n",
    "    elif h==4:\n",
    "        print(\"* * * *\")\n",
    "    elif h==5:\n",
    "        print(\"*      *\")\n",
    "    elif h==6:\n",
    "        print(\"*     *\")"
   ]
  },
  {
   "cell_type": "code",
   "execution_count": 62,
   "id": "27dc4e0a",
   "metadata": {},
   "outputs": [
    {
     "name": "stdout",
     "output_type": "stream",
     "text": [
      "   #  \n",
      "   *    \n",
      "   * \n",
      "   * \n"
     ]
    }
   ],
   "source": [
    "for i in range(5):\n",
    "    if i==1:\n",
    "        print(\"   #  \")\n",
    "    elif i==2:\n",
    "        print(\"   *    \")\n",
    "    elif i==3:\n",
    "        print(\"   * \")\n",
    "    elif i==4:\n",
    "        print(\"   * \")\n"
   ]
  },
  {
   "cell_type": "code",
   "execution_count": 68,
   "id": "30e6ab29",
   "metadata": {},
   "outputs": [
    {
     "name": "stdout",
     "output_type": "stream",
     "text": [
      "       0 \n",
      "       *     \n",
      "       *     \n",
      "       * \n",
      "       * \n",
      " *     *\n",
      "  * * *     \n"
     ]
    }
   ],
   "source": [
    "for j in range(8):\n",
    "    if j==1:\n",
    "        print(\"       0 \")\n",
    "    elif j==2:\n",
    "        print(\"       *     \")\n",
    "    elif j==3:\n",
    "        print(\"       *     \")\n",
    "    elif j==4:\n",
    "        print(\"       * \")\n",
    "    elif j==5:\n",
    "        print(\"       * \")\n",
    "    elif j==6:\n",
    "        print(\" *     *\")\n",
    "    elif j==7:\n",
    "        print(\"  * * *     \")"
   ]
  },
  {
   "cell_type": "code",
   "execution_count": 71,
   "id": "0f91928b",
   "metadata": {},
   "outputs": [
    {
     "name": "stdout",
     "output_type": "stream",
     "text": [
      "*      *\n",
      "*    *\n",
      "*  *\n",
      "**\n",
      "*  *\n",
      "*    *\n",
      "*      *\n"
     ]
    }
   ],
   "source": [
    "for k in range(8):\n",
    "    if k==1:\n",
    "        print(\"*      *\")\n",
    "    elif k==2:\n",
    "        print(\"*    *\")\n",
    "    elif k==3:\n",
    "        print(\"*  *\")\n",
    "    elif k==4:\n",
    "        print(\"**\")\n",
    "    elif k==5:\n",
    "        print(\"*  *\")\n",
    "    elif k==6:\n",
    "        print(\"*    *\")\n",
    "    elif k==7:\n",
    "        print(\"*      *\")"
   ]
  },
  {
   "cell_type": "code",
   "execution_count": 134,
   "id": "4a0eb94c",
   "metadata": {},
   "outputs": [
    {
     "name": "stdout",
     "output_type": "stream",
     "text": [
      "   *  \n",
      "   *    \n",
      "   * \n",
      "   * \n",
      "   * *\n"
     ]
    }
   ],
   "source": [
    "for i in range(7):\n",
    "    if i==1:\n",
    "        print(\"   *  \")\n",
    "    elif i==2:\n",
    "        print(\"   *    \")\n",
    "    elif i==3:\n",
    "        print(\"   * \")\n",
    "    elif i==4:\n",
    "        print(\"   * \")\n",
    "    elif i==5:\n",
    "        print(\"   * *\")"
   ]
  },
  {
   "cell_type": "code",
   "execution_count": 82,
   "id": "1bf69fba",
   "metadata": {},
   "outputs": [
    {
     "name": "stdout",
     "output_type": "stream",
     "text": [
      "*\n",
      " *\n",
      " ** * * * * *\n",
      " *     *     *\n",
      " *     *     *\n",
      " *     *     *\n"
     ]
    }
   ],
   "source": [
    "for m in range(8):\n",
    "    if m==2:\n",
    "        print(\"*\")\n",
    "    elif m==3:\n",
    "        print(\" *\")\n",
    "    elif m==4:\n",
    "        print(\" ** * * * * *\")\n",
    "    elif m==5:\n",
    "        print(\" *     *     *\")\n",
    "    elif m==6:\n",
    "        print(\" *     *     *\")\n",
    "    elif m==7:\n",
    "        print(\" *     *     *\")"
   ]
  },
  {
   "cell_type": "code",
   "execution_count": 84,
   "id": "51432284",
   "metadata": {},
   "outputs": [
    {
     "name": "stdout",
     "output_type": "stream",
     "text": [
      "*\n",
      " *\n",
      "  * * * * *\n",
      " *          *\n",
      " *          *\n",
      " *          *\n"
     ]
    }
   ],
   "source": [
    "for n in range(8):\n",
    "    if n==2:\n",
    "        print(\"*\")\n",
    "    elif n==3:\n",
    "        print(\" *\")\n",
    "    elif n==4:\n",
    "        print(\"  * * * * *\")\n",
    "    elif n==5:\n",
    "        print(\" *          *\")\n",
    "    elif n==6:\n",
    "        print(\" *          *\")\n",
    "    elif n==7:\n",
    "        print(\" *          *\")"
   ]
  },
  {
   "cell_type": "code",
   "execution_count": 86,
   "id": "bcc13d44",
   "metadata": {},
   "outputs": [
    {
     "name": "stdout",
     "output_type": "stream",
     "text": [
      " * **\n",
      "*    *\n",
      "*    * \n",
      "*    *\n",
      " * **  \n"
     ]
    }
   ],
   "source": [
    "for o in range(6):\n",
    "    if o==1:\n",
    "        print(\" * **\")\n",
    "    elif o==2:\n",
    "        print(\"*    *\")\n",
    "    elif o==3:\n",
    "        print(\"*    * \")\n",
    "    elif o==4:\n",
    "        print(\"*    *\")\n",
    "    elif o==5:\n",
    "        print(\" * **  \")"
   ]
  },
  {
   "cell_type": "code",
   "execution_count": 88,
   "id": "44c36bdc",
   "metadata": {},
   "outputs": [
    {
     "name": "stdout",
     "output_type": "stream",
     "text": [
      "** * * \n",
      "*     *\n",
      "* * *\n",
      "* \n",
      "*  \n"
     ]
    }
   ],
   "source": [
    "for p in range(6):\n",
    "    if p==1:\n",
    "        print(\"** * * \")\n",
    "    elif p==2:\n",
    "        print(\"*     *\")\n",
    "    elif p==3:\n",
    "        print(\"* * *\")\n",
    "    elif p==4:\n",
    "        print(\"* \")\n",
    "    elif p==5:\n",
    "        print(\"*  \")"
   ]
  },
  {
   "cell_type": "code",
   "execution_count": 138,
   "id": "25962be3",
   "metadata": {},
   "outputs": [
    {
     "name": "stdout",
     "output_type": "stream",
     "text": [
      " * * * \n",
      "*     *\n",
      " * * **\n",
      "      *  *\n",
      "      * *\n",
      "      **\n"
     ]
    }
   ],
   "source": [
    "for q in range(7):\n",
    "    if q==1:\n",
    "        print(\" * * * \")\n",
    "    elif q==2:\n",
    "        print(\"*     *\")\n",
    "    elif q==3:\n",
    "        print(\" * * **\")\n",
    "    elif q==4:\n",
    "        print(\"      *  *\")\n",
    "    elif q==5:\n",
    "        print(\"      * *\")\n",
    "    elif q==6:\n",
    "        print(\"      **\")"
   ]
  },
  {
   "cell_type": "code",
   "execution_count": 98,
   "id": "181bdc70",
   "metadata": {},
   "outputs": [
    {
     "name": "stdout",
     "output_type": "stream",
     "text": [
      "*  \n",
      "** * * \n",
      "*     *\n",
      "* \n",
      "* \n",
      "*  \n"
     ]
    }
   ],
   "source": [
    "for r in range(7):\n",
    "    if r==1:\n",
    "        print(\"*  \")\n",
    "    elif r==2:\n",
    "        print(\"** * * \")\n",
    "    elif r==3:\n",
    "        print(\"*     *\")\n",
    "    elif r==4:\n",
    "        print(\"* \")\n",
    "    elif r==5:\n",
    "        print(\"* \")\n",
    "    elif r==6:\n",
    "        print(\"*  \")"
   ]
  },
  {
   "cell_type": "code",
   "execution_count": 101,
   "id": "918d54c6",
   "metadata": {},
   "outputs": [
    {
     "name": "stdout",
     "output_type": "stream",
     "text": [
      " * * *\n",
      "*\n",
      " * * * \n",
      "      *\n",
      "* * *\n"
     ]
    }
   ],
   "source": [
    "for s in range(6):\n",
    "    if s==1:\n",
    "        print(\" * * *\")\n",
    "    elif s==2:\n",
    "        print(\"*\")\n",
    "    elif s==3:\n",
    "        print(\" * * * \")\n",
    "    elif s==4:\n",
    "        print(\"      *\")\n",
    "    elif s==5:\n",
    "        print(\"* * *\")"
   ]
  },
  {
   "cell_type": "code",
   "execution_count": 103,
   "id": "234157af",
   "metadata": {},
   "outputs": [
    {
     "name": "stdout",
     "output_type": "stream",
     "text": [
      "   *\n",
      "   *    \n",
      "* * * *\n",
      "   *\n",
      "   *  \n",
      "   *     *\n",
      "    * * *\n"
     ]
    }
   ],
   "source": [
    "for t in range(8):\n",
    "    if t==1:\n",
    "        print(\"   *\")\n",
    "    elif t==2:\n",
    "        print(\"   *    \")\n",
    "    elif t==3:\n",
    "        print(\"* * * *\")\n",
    "    elif t==4:\n",
    "        print(\"   *\")\n",
    "    elif t==5:\n",
    "        print(\"   *  \")\n",
    "    elif t==6:\n",
    "        print(\"   *     *\")\n",
    "    elif t==7:\n",
    "        print(\"    * * *\")"
   ]
  },
  {
   "cell_type": "code",
   "execution_count": 104,
   "id": "8757eb3d",
   "metadata": {},
   "outputs": [
    {
     "name": "stdout",
     "output_type": "stream",
     "text": [
      "*       *\n",
      "*       *\n",
      "*       *\n",
      "*       *\n",
      "  * * *   *\n"
     ]
    }
   ],
   "source": [
    "for u in range(7):\n",
    "    if u==1:\n",
    "        print(\"*       *\")\n",
    "    elif u==2:\n",
    "        print(\"*       *\")\n",
    "    elif u==3:\n",
    "        print(\"*       *\")\n",
    "    elif u==4:\n",
    "        print(\"*       *\")\n",
    "    elif u==5:\n",
    "        print(\"  * * *   *\")"
   ]
  },
  {
   "cell_type": "code",
   "execution_count": 105,
   "id": "628b18b7",
   "metadata": {},
   "outputs": [
    {
     "name": "stdout",
     "output_type": "stream",
     "text": [
      "*          *\n",
      " *        *\n",
      "  *      *\n",
      "   *    *\n",
      "    *  *\n",
      "     **\n"
     ]
    }
   ],
   "source": [
    "for v in range(7):\n",
    "    if v==1:\n",
    "        print(\"*          *\")\n",
    "    elif v==2:\n",
    "        print(\" *        *\")\n",
    "    elif v==3:\n",
    "        print(\"  *      *\")\n",
    "    elif v==4:\n",
    "        print(\"   *    *\")\n",
    "    elif v==5:\n",
    "        print(\"    *  *\")\n",
    "    elif v==6:\n",
    "        print(\"     **\")"
   ]
  },
  {
   "cell_type": "code",
   "execution_count": 127,
   "id": "06948e82",
   "metadata": {},
   "outputs": [
    {
     "name": "stdout",
     "output_type": "stream",
     "text": [
      " *     *\n",
      "*   *   *\n",
      "*   *   *\n",
      " * * * *\n"
     ]
    }
   ],
   "source": [
    "for w in range(5):\n",
    "    if w==1:\n",
    "        print(\" *     *\")\n",
    "    elif w==2:\n",
    "        print(\"*   *   *\")\n",
    "    elif w==3:\n",
    "        print(\"*   *   *\")\n",
    "    elif w==4:\n",
    "        print(\" * * * *\")"
   ]
  },
  {
   "cell_type": "code",
   "execution_count": 117,
   "id": "c0391643",
   "metadata": {},
   "outputs": [
    {
     "name": "stdout",
     "output_type": "stream",
     "text": [
      " *       *\n",
      "   *   *\n",
      "    * * \n",
      "    **\n",
      "    * *\n",
      "   *   *\n",
      " *       *\n"
     ]
    }
   ],
   "source": [
    "for x in range(8):\n",
    "    if x==1:\n",
    "        print(\" *       *\")\n",
    "    elif x==2:\n",
    "        print(\"   *   *\")\n",
    "    elif x==3:\n",
    "        print(\"    * * \")\n",
    "    elif x==4:\n",
    "        print(\"    **\")\n",
    "    elif x==5:\n",
    "        print(\"    * *\")\n",
    "    elif x==6:\n",
    "        print(\"   *   *\")\n",
    "    elif x==7:\n",
    "        print(\" *       *\")"
   ]
  },
  {
   "cell_type": "code",
   "execution_count": 124,
   "id": "7e7500c0",
   "metadata": {},
   "outputs": [
    {
     "name": "stdout",
     "output_type": "stream",
     "text": [
      " *    *\n",
      " *    *\n",
      "  * * *\n",
      "      *\n",
      "      * \n",
      "  *   * \n",
      "  *   * \n",
      "    * \n"
     ]
    }
   ],
   "source": [
    "for y in range(9):\n",
    "    if y==1:\n",
    "        print(\" *    *\")\n",
    "    elif y==2:\n",
    "        print(\" *    *\")\n",
    "    elif y==3:\n",
    "        print(\"  * * *\")\n",
    "    elif y==4:\n",
    "        print(\"      *\")\n",
    "    elif y==5:\n",
    "        print(\"      * \")\n",
    "    elif y==6:\n",
    "        print(\"  *   * \")\n",
    "    elif y==7:\n",
    "        print(\"  *   * \")\n",
    "    elif y==8:\n",
    "        print(\"    * \")"
   ]
  },
  {
   "cell_type": "code",
   "execution_count": 129,
   "id": "a7beddaa",
   "metadata": {},
   "outputs": [
    {
     "name": "stdout",
     "output_type": "stream",
     "text": [
      " * * * *\n",
      "      *\n",
      "     *\n",
      "* * * * *\n",
      "   *\n",
      "  *\n",
      " * * * *\n"
     ]
    }
   ],
   "source": [
    "for z in range (8):\n",
    "    if z==1:\n",
    "        print(\" * * * *\")\n",
    "    elif z==2:\n",
    "        print(\"      *\")\n",
    "    elif z==3:\n",
    "        print(\"     *\")\n",
    "    elif z==4:\n",
    "        print(\"* * * * *\")\n",
    "    elif z==5:\n",
    "        print(\"   *\")\n",
    "    elif z==6:\n",
    "        print(\"  *\")\n",
    "    elif z==7:\n",
    "        print(\" * * * *\")"
   ]
  }
 ],
 "metadata": {
  "kernelspec": {
   "display_name": "Python 3 (ipykernel)",
   "language": "python",
   "name": "python3"
  },
  "language_info": {
   "codemirror_mode": {
    "name": "ipython",
    "version": 3
   },
   "file_extension": ".py",
   "mimetype": "text/x-python",
   "name": "python",
   "nbconvert_exporter": "python",
   "pygments_lexer": "ipython3",
   "version": "3.9.13"
  }
 },
 "nbformat": 4,
 "nbformat_minor": 5
}
