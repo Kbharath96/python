{
 "cells": [
  {
   "cell_type": "markdown",
   "id": "5adae565",
   "metadata": {},
   "source": [
    "# Task-3"
   ]
  },
  {
   "cell_type": "markdown",
   "id": "e0902918",
   "metadata": {},
   "source": [
    "# 1)  Write a Python program that prints all the numbers from 0 to 6 except 3 and 6"
   ]
  },
  {
   "cell_type": "code",
   "execution_count": 30,
   "id": "834f2ff2",
   "metadata": {},
   "outputs": [
    {
     "name": "stdout",
     "output_type": "stream",
     "text": [
      "0\n",
      "1\n",
      "2\n",
      "4\n",
      "5\n"
     ]
    }
   ],
   "source": [
    "a=0\n",
    "for b in range(0,6):\n",
    "    if b==3:\n",
    "        continue\n",
    "    elif b==6:\n",
    "        continue\n",
    "    print(b)"
   ]
  },
  {
   "cell_type": "code",
   "execution_count": 31,
   "id": "00c6417a",
   "metadata": {},
   "outputs": [
    {
     "name": "stdout",
     "output_type": "stream",
     "text": [
      "0\n",
      "1\n",
      "2\n",
      "4\n",
      "5\n"
     ]
    }
   ],
   "source": [
    "x=-1\n",
    "while x<6:\n",
    "    x=x+1\n",
    "    if x==3:\n",
    "        continue\n",
    "    elif x==6:\n",
    "        continue\n",
    "    print(x)"
   ]
  },
  {
   "cell_type": "markdown",
   "id": "eca5d917",
   "metadata": {},
   "source": [
    "# 2)Write a program to accept a number from a user and calculate the sum of all numbers from 1 to a given number"
   ]
  },
  {
   "cell_type": "code",
   "execution_count": 4,
   "id": "5b5f0abb",
   "metadata": {},
   "outputs": [
    {
     "name": "stdout",
     "output_type": "stream",
     "text": [
      "55\n"
     ]
    }
   ],
   "source": [
    "nums=[1,2,3,4,5,6,7,8,9,10]\n",
    "y=0\n",
    "for x in nums:\n",
    "    y=y+x\n",
    "print(y)"
   ]
  },
  {
   "cell_type": "code",
   "execution_count": 32,
   "id": "4157c660",
   "metadata": {},
   "outputs": [
    {
     "name": "stdout",
     "output_type": "stream",
     "text": [
      "55\n"
     ]
    }
   ],
   "source": [
    "x=10\n",
    "y=1\n",
    "z=0\n",
    "while y<(x+1):\n",
    "    z=z+y\n",
    "    y=y+1\n",
    "print(z) "
   ]
  },
  {
   "cell_type": "code",
   "execution_count": null,
   "id": "53eeeede",
   "metadata": {},
   "outputs": [],
   "source": []
  },
  {
   "cell_type": "markdown",
   "id": "0ed93218",
   "metadata": {},
   "source": [
    "# 3) Write a program to print multiplication table of a given number(input)"
   ]
  },
  {
   "cell_type": "code",
   "execution_count": 9,
   "id": "c5c9f0d2",
   "metadata": {},
   "outputs": [
    {
     "name": "stdout",
     "output_type": "stream",
     "text": [
      "17\n",
      "17 * 1 = 17\n",
      "17 * 2 = 34\n",
      "17 * 3 = 51\n",
      "17 * 4 = 68\n",
      "17 * 5 = 85\n",
      "17 * 6 = 102\n",
      "17 * 7 = 119\n",
      "17 * 8 = 136\n",
      "17 * 9 = 153\n",
      "17 * 10 = 170\n"
     ]
    }
   ],
   "source": [
    "z=int(input())\n",
    "for x in range(1,11):\n",
    "    print(\"{} * {} = {}\".format(z,x,z*x))"
   ]
  },
  {
   "cell_type": "markdown",
   "id": "339d3451",
   "metadata": {},
   "source": [
    "# 4)Write a program to count the total number of digits in a number using a while loop."
   ]
  },
  {
   "cell_type": "code",
   "execution_count": 3,
   "id": "35ff7ef3",
   "metadata": {},
   "outputs": [
    {
     "name": "stdout",
     "output_type": "stream",
     "text": [
      "11\n"
     ]
    }
   ],
   "source": [
    "x=\"12341785678\"\n",
    "count=0\n",
    "for y in x:\n",
    "    count=count+1\n",
    "print(count)"
   ]
  },
  {
   "cell_type": "code",
   "execution_count": 4,
   "id": "66c6f786",
   "metadata": {},
   "outputs": [
    {
     "name": "stdout",
     "output_type": "stream",
     "text": [
      "11\n"
     ]
    }
   ],
   "source": [
    "x=\"12341785678\"\n",
    "a=True\n",
    "b=0\n",
    "while a:\n",
    "    for y in x: \n",
    "        b=b+1\n",
    "        a=False\n",
    "    print(b)"
   ]
  },
  {
   "cell_type": "markdown",
   "id": "280f3b3f",
   "metadata": {},
   "source": [
    "# 5)Write a Python program to guess a number between 1 to \n",
    "Example:\n",
    "User is prompted to enter a guess. If the user guesses wrong then the prompt appears again until the guess is correct, on successful guess, user will get a \"Well guessed!\" message, and the program will exit."
   ]
  },
  {
   "cell_type": "code",
   "execution_count": 7,
   "id": "59d4fdaf",
   "metadata": {},
   "outputs": [
    {
     "name": "stdout",
     "output_type": "stream",
     "text": [
      "Enter a number: 89\n",
      "Guess a number: 45\n",
      "wrong!, guess again35\n",
      "wrong!, guess again69\n",
      "wrong!, guess again89\n",
      "yes correct\n"
     ]
    }
   ],
   "source": [
    "x=int(input(\"Enter a number: \"))\n",
    "y=int(input(\"Guess a number: \"))\n",
    "while x!=y:\n",
    "    y=int(input(\"wrong!, guess again\"))\n",
    "if x==y:\n",
    "    print(\"yes correct\")"
   ]
  },
  {
   "cell_type": "markdown",
   "id": "3e8b753d",
   "metadata": {},
   "source": [
    "# 6Q)Write a Python program which iterates the integers from 1 to 60. For multiples of three print \"Fizz\" instead of the number and for the multiples of five print \"Buzz\". For numbers which are multiples of both three and five print \"FizzBuzz\"."
   ]
  },
  {
   "cell_type": "code",
   "execution_count": 13,
   "id": "692b2bbf",
   "metadata": {},
   "outputs": [
    {
     "name": "stdout",
     "output_type": "stream",
     "text": [
      "['Fizz', 1, 2, 'Fizz', 4, 'Buzz', 'Fizz', 7, 8, 'Fizz', 'Buzz', 11, 'Fizz', 13, 14, 'Fizz', 16, 17, 'Fizz', 19, 'Buzz', 'Fizz', 22, 23, 'Fizz', 'Buzz', 26, 'Fizz', 28, 29, 'Fizz', 31, 32, 'Fizz', 34, 'Buzz', 'Fizz', 37, 38, 'Fizz', 'Buzz', 41, 'Fizz', 43, 44, 'Fizz', 46, 47, 'Fizz', 49]\n"
     ]
    }
   ],
   "source": [
    "a=[]\n",
    "for x in range(0,50):\n",
    "    if x%3==0:\n",
    "        a.append(\"Fizz\")\n",
    "        continue\n",
    "    elif x%5==0:\n",
    "        a.append(\"Buzz\")\n",
    "        continue\n",
    "    elif x%3==0 and x%5==0:\n",
    "        a.append(\"FizzBuzz\")\n",
    "    else:\n",
    "        a.append(x)\n",
    "print(a)"
   ]
  },
  {
   "cell_type": "markdown",
   "id": "8180c993",
   "metadata": {},
   "source": [
    "# 7Q)Write a Python program that accepts a string and calculate the number of digits and letters"
   ]
  },
  {
   "cell_type": "code",
   "execution_count": 21,
   "id": "b0905b8d",
   "metadata": {},
   "outputs": [
    {
     "name": "stdout",
     "output_type": "stream",
     "text": [
      "Total_digits:  10\n",
      "Total_letters:  9\n"
     ]
    }
   ],
   "source": [
    "x=\"bharathph9010431027\"\n",
    "digits=0\n",
    "letters=0\n",
    "for y in x:\n",
    "    if y.isdigit():\n",
    "        digits+=1\n",
    "    else:\n",
    "        letters+=1\n",
    "print(\"Total_digits: \",digits)\n",
    "print(\"Total_letters: \",letters)"
   ]
  },
  {
   "cell_type": "markdown",
   "id": "919e7050",
   "metadata": {},
   "source": [
    "# 8Q) Write a Python program to check the validity of password input by users.\n",
    "Validation:                                                                                                                    \n",
    "At least 1 letter between [a-z] and 1 letter between [A-Z].\n",
    "At least 1 number between [0-9].                                                                                               \n",
    "At least 1 character from [$#@].                                                                                               \n",
    "Minimum length 6 characters.                                                                                                   \n",
    "Maximum length 16 characters."
   ]
  },
  {
   "cell_type": "code",
   "execution_count": 28,
   "id": "a4088e88",
   "metadata": {},
   "outputs": [
    {
     "name": "stdout",
     "output_type": "stream",
     "text": [
      "BHarath@1027\n",
      "your password is created\n"
     ]
    }
   ],
   "source": [
    "password=input()\n",
    "lower=0\n",
    "upper=0\n",
    "number=0\n",
    "symbols=0\n",
    "x=0\n",
    "if len(password)<6 or len(password)>16 or password.isidentifier():\n",
    "    print(\"Hello user, please! enter the valid password\")\n",
    "elif len(password)<=16 or len(password)>=6:\n",
    "    while x<len(password):\n",
    "        if password[x].isdigit():\n",
    "            number=number+1\n",
    "        elif password[x].isupper():\n",
    "            upper=upper+1\n",
    "        elif password[x].islower():\n",
    "            lower=lower+1\n",
    "        x=x+1\n",
    "    if number>=1 and upper>=1 and lower>=1:\n",
    "        print(\"your password is created\")\n",
    "    else:\n",
    "        print(\"password must contains number and uppercase and lowercase\")"
   ]
  },
  {
   "cell_type": "markdown",
   "id": "4a78a5c8",
   "metadata": {},
   "source": [
    "# 9Q) Write a program in Python to reverse a word by using while loop\n"
   ]
  },
  {
   "cell_type": "code",
   "execution_count": 32,
   "id": "7592a830",
   "metadata": {},
   "outputs": [
    {
     "name": "stdout",
     "output_type": "stream",
     "text": [
      "BHARATHKUNSOTH \n"
     ]
    }
   ],
   "source": [
    "x=\"HTOSNUKHTARAHB\"\n",
    "y=\" \"\n",
    "for z in x:\n",
    "    y=z+y\n",
    "print(y)"
   ]
  },
  {
   "cell_type": "markdown",
   "id": "54c5494a",
   "metadata": {},
   "source": [
    "# 10Q) Write a program which takes 10 integers as input using loop and print their average value on the screen"
   ]
  },
  {
   "cell_type": "code",
   "execution_count": 13,
   "id": "14937314",
   "metadata": {},
   "outputs": [
    {
     "name": "stdout",
     "output_type": "stream",
     "text": [
      "0\n",
      "1\n",
      "2\n",
      "3\n",
      "4\n",
      "5\n",
      "6\n",
      "7\n",
      "8\n",
      "9\n",
      "Average of above number is :  45\n"
     ]
    }
   ],
   "source": [
    "a=0\n",
    "for x in range(0,10):\n",
    "    integers=int(input())\n",
    "    a+=integers\n",
    "print(\"Average of above number is : \",a)  "
   ]
  },
  {
   "cell_type": "markdown",
   "id": "36667bcd",
   "metadata": {},
   "source": [
    "# 11Q) Write a program which takes integer inputs from user until he/she presses “q” (Ask to press q to quit after every integer input). Print average and product of all numbers."
   ]
  },
  {
   "cell_type": "code",
   "execution_count": 40,
   "id": "0a4a63e5",
   "metadata": {},
   "outputs": [
    {
     "name": "stdout",
     "output_type": "stream",
     "text": [
      "4\n",
      "give sign or q to quit: //\n",
      "6\n",
      "8\n",
      "10\n",
      "average of 4,6,8,10 is 14 \n",
      "4\n",
      "give sign or q to quit: *\n",
      "6\n",
      "8\n",
      "10\n",
      "product of 4,6,8,10 is 1920\n",
      "4\n",
      "give sign or q to quit: q\n",
      "6\n",
      "8\n",
      "10\n"
     ]
    }
   ],
   "source": [
    "sign=\"n\"\n",
    "while sign!=\"q\":\n",
    "    a=int(input())\n",
    "    sign=input(\"give sign or q to quit: \")\n",
    "    b=int(input())\n",
    "    c=int(input())\n",
    "    d=int(input())\n",
    "    if sign==\"*\":\n",
    "        print(\"product of {},{},{},{} is {}\".format(a,b,c,d,a*b*c*d))\n",
    "    elif sign==\"//\":\n",
    "        print(\"average of {},{},{},{} is {} \".format(a,b,c,d,(a+b+c+d)//2))"
   ]
  },
  {
   "cell_type": "markdown",
   "id": "8fab44ab",
   "metadata": {},
   "source": [
    "# 12Q) Write a Python program which will remove all digits or any other characters from the string except alphabets"
   ]
  },
  {
   "cell_type": "code",
   "execution_count": 15,
   "id": "530ea040",
   "metadata": {},
   "outputs": [
    {
     "name": "stdout",
     "output_type": "stream",
     "text": [
      " Bharath@9010431027.\n",
      " Bharath\n"
     ]
    }
   ],
   "source": [
    "x=input(\" \")\n",
    "y=\" \"\n",
    "for a in x:\n",
    "    if a.isalpha():\n",
    "        y=y+a\n",
    "print(y)"
   ]
  },
  {
   "cell_type": "code",
   "execution_count": null,
   "id": "4c5d5673",
   "metadata": {},
   "outputs": [],
   "source": []
  },
  {
   "cell_type": "markdown",
   "id": "c27ad63c",
   "metadata": {},
   "source": [
    "# 13Q) Write a python program to find the sum of all even numbers from 0 to 10"
   ]
  },
  {
   "cell_type": "code",
   "execution_count": 16,
   "id": "f4470e0a",
   "metadata": {},
   "outputs": [
    {
     "name": "stdout",
     "output_type": "stream",
     "text": [
      "The sum of even numbers is:  30\n"
     ]
    }
   ],
   "source": [
    "total=0\n",
    "for b in range (1,11):\n",
    "    if b%2==0:\n",
    "        total=total+b\n",
    "print(\"The sum of even numbers is: \",total)"
   ]
  },
  {
   "cell_type": "code",
   "execution_count": 31,
   "id": "3b2fea50",
   "metadata": {},
   "outputs": [
    {
     "name": "stdout",
     "output_type": "stream",
     "text": [
      "10\n",
      "Sum of even numbers from 1 to 10:  30\n"
     ]
    }
   ],
   "source": [
    "a=int(input())\n",
    "b=0\n",
    "c=0\n",
    "while b<=a:\n",
    "    c+=b\n",
    "    b+=2\n",
    "print(\"Sum of even numbers from 1 to 10: \",c)"
   ]
  },
  {
   "cell_type": "markdown",
   "id": "50842dc3",
   "metadata": {},
   "source": [
    "# 14Q) Write a python program which will accept a digit and print all the numbers before it till 0"
   ]
  },
  {
   "cell_type": "code",
   "execution_count": 16,
   "id": "de30a1e3",
   "metadata": {},
   "outputs": [
    {
     "name": "stdout",
     "output_type": "stream",
     "text": [
      "4\n",
      "3\n",
      "2\n",
      "1\n",
      "0\n"
     ]
    }
   ],
   "source": [
    "a=5\n",
    "b=0\n",
    "while a>b:\n",
    "    a=a-1\n",
    "    print(a)"
   ]
  },
  {
   "cell_type": "code",
   "execution_count": 22,
   "id": "0c787c2e",
   "metadata": {},
   "outputs": [
    {
     "name": "stdout",
     "output_type": "stream",
     "text": [
      "4\n",
      "3\n",
      "2\n",
      "1\n",
      "0\n"
     ]
    }
   ],
   "source": [
    "x=5\n",
    "for y in range(1,6):\n",
    "    print(x-y)"
   ]
  },
  {
   "cell_type": "markdown",
   "id": "dd83ef5c",
   "metadata": {},
   "source": [
    "# 15Q) Create a dynamic calculator which will run continually till you press “c”\n"
   ]
  },
  {
   "cell_type": "code",
   "execution_count": 2,
   "id": "b077063b",
   "metadata": {},
   "outputs": [
    {
     "name": "stdout",
     "output_type": "stream",
     "text": [
      "write first number: 3\n",
      "give the opera or type c to exit: +\n",
      "write the second number: 6\n",
      "addtion of 3 and 6 is 9\n",
      "write first number: 3\n",
      "give the opera or type c to exit: c\n",
      "write the second number: 6\n"
     ]
    }
   ],
   "source": [
    "sign = \"n\"\n",
    "while sign!=\"c\":\n",
    "    a=int(input(\"write first number: \"))\n",
    "    sign=input(\"give the opera or type c to exit: \")\n",
    "    b=int(input(\"write the second number: \"))\n",
    "    if sign==\"+\":\n",
    "        print(\"addtion of {} and {} is {}\".format(a,b,a+b))\n",
    "    elif sign==\"-\":\n",
    "        print(\"sub of {} and {} is {}\".format(a,b,a-b))\n",
    "    elif sign==\"*\":\n",
    "        print(\"multi of {} and {} is {}\".format(a,b,a*b))\n",
    "    elif sign==\"/\":\n",
    "        print(\"division of {} and {} is {}\".format(a,b,a/b))"
   ]
  }
 ],
 "metadata": {
  "kernelspec": {
   "display_name": "Python 3 (ipykernel)",
   "language": "python",
   "name": "python3"
  },
  "language_info": {
   "codemirror_mode": {
    "name": "ipython",
    "version": 3
   },
   "file_extension": ".py",
   "mimetype": "text/x-python",
   "name": "python",
   "nbconvert_exporter": "python",
   "pygments_lexer": "ipython3",
   "version": "3.9.13"
  }
 },
 "nbformat": 4,
 "nbformat_minor": 5
}
