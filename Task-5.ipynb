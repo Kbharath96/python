{
 "cells": [
  {
   "cell_type": "markdown",
   "id": "bca07dd8",
   "metadata": {},
   "source": [
    "# Assignment -5"
   ]
  },
  {
   "cell_type": "markdown",
   "id": "3c494ba0",
   "metadata": {},
   "source": [
    "#### 1. Define a function which will return Max of three numbers "
   ]
  },
  {
   "cell_type": "code",
   "execution_count": 1,
   "id": "fb3119f9",
   "metadata": {},
   "outputs": [],
   "source": [
    "def max11(a,b,c):\n",
    "    if a>b and a>c:\n",
    "        return a\n",
    "    elif b>a and b>c:\n",
    "        return b\n",
    "    elif c>a and c>b:\n",
    "        return c"
   ]
  },
  {
   "cell_type": "code",
   "execution_count": 2,
   "id": "84081d33",
   "metadata": {},
   "outputs": [
    {
     "data": {
      "text/plain": [
       "10000"
      ]
     },
     "execution_count": 2,
     "metadata": {},
     "output_type": "execute_result"
    }
   ],
   "source": [
    "max11(10,10000,100)"
   ]
  },
  {
   "cell_type": "markdown",
   "id": "b6ecbc78",
   "metadata": {},
   "source": [
    "#### 2. Define a Python Function to reverse a string"
   ]
  },
  {
   "cell_type": "code",
   "execution_count": 4,
   "id": "189e5bc3",
   "metadata": {},
   "outputs": [],
   "source": [
    "def rev(x):\n",
    "    l=x[::-1]\n",
    "    return l"
   ]
  },
  {
   "cell_type": "code",
   "execution_count": 5,
   "id": "eb151848",
   "metadata": {},
   "outputs": [
    {
     "data": {
      "text/plain": [
       "'NOHTYP'"
      ]
     },
     "execution_count": 5,
     "metadata": {},
     "output_type": "execute_result"
    }
   ],
   "source": [
    "rev(\"PYTHON\")"
   ]
  },
  {
   "cell_type": "markdown",
   "id": "c5a47429",
   "metadata": {},
   "source": [
    "#### 3. Write a Python program to define a function that accepts 2 values and return its sum, subtraction and multiplication. "
   ]
  },
  {
   "cell_type": "code",
   "execution_count": 29,
   "id": "e44fcd32",
   "metadata": {},
   "outputs": [],
   "source": [
    "def fun(x,y):\n",
    "    print(\"sum of {} and {} is {}\".format(x,y,x+y))\n",
    "    print(\"sub of {} and {} is {}\".format(x,y,x-y))\n",
    "    print(\"multi of {} and {} is {}\".format(x,y,x*y))"
   ]
  },
  {
   "cell_type": "code",
   "execution_count": 30,
   "id": "555cfd74",
   "metadata": {},
   "outputs": [
    {
     "name": "stdout",
     "output_type": "stream",
     "text": [
      "sum of 3798 and 3681 is 7479\n",
      "sub of 3798 and 3681 is 117\n",
      "multi of 3798 and 3681 is 13980438\n"
     ]
    }
   ],
   "source": [
    "fun(3798,3681)"
   ]
  },
  {
   "cell_type": "markdown",
   "id": "ecbaa170",
   "metadata": {},
   "source": [
    "#### 4. Define a function that accepts roll number and returns whether the student is present or absent. "
   ]
  },
  {
   "cell_type": "code",
   "execution_count": 16,
   "id": "5d3cc948",
   "metadata": {},
   "outputs": [],
   "source": [
    "def rollNo(a):\n",
    "    b=[1,2,3,4,5,6,7,8,10,11,12,13,15]\n",
    "    if a in b:\n",
    "        print(\"present\")\n",
    "    else:\n",
    "        print(\"absent\")"
   ]
  },
  {
   "cell_type": "code",
   "execution_count": 17,
   "id": "52d91665",
   "metadata": {},
   "outputs": [
    {
     "name": "stdout",
     "output_type": "stream",
     "text": [
      "present\n"
     ]
    }
   ],
   "source": [
    "rollNo(2)"
   ]
  },
  {
   "cell_type": "markdown",
   "id": "f8a1d706",
   "metadata": {},
   "source": [
    "#### 5. Define a function in python that accepts n values and returns the maximum of n numbers"
   ]
  },
  {
   "cell_type": "code",
   "execution_count": 33,
   "id": "0ced6caf",
   "metadata": {},
   "outputs": [
    {
     "data": {
      "text/plain": [
       "'HTARAHB'"
      ]
     },
     "execution_count": 33,
     "metadata": {},
     "output_type": "execute_result"
    }
   ],
   "source": [
    "x=\"BHARATH\"\n",
    "l=x[::-1]\n",
    "l"
   ]
  },
  {
   "cell_type": "markdown",
   "id": "38ef38e8",
   "metadata": {},
   "source": [
    "#### 6. Define a function which counts vowels and consonant in a word."
   ]
  },
  {
   "cell_type": "code",
   "execution_count": 20,
   "id": "a43450ff",
   "metadata": {},
   "outputs": [],
   "source": [
    "def inpt(a):\n",
    "    vowels=[\"a\",\"e\",\"i\",\"o\",\"u\"]\n",
    "    c=0\n",
    "    v=0\n",
    "    for letters in a:\n",
    "        if letters in vowels:\n",
    "            v+=1\n",
    "        else:\n",
    "            c+=1\n",
    "    print(\"No of VOWELS in the inpt: {} \".format(v))\n",
    "    print(\"No of CONSONANT in the inpt: {} \".format(c))"
   ]
  },
  {
   "cell_type": "code",
   "execution_count": 21,
   "id": "e43d9e3a",
   "metadata": {},
   "outputs": [
    {
     "name": "stdout",
     "output_type": "stream",
     "text": [
      "No of VOWELS in the inpt: 5 \n",
      "No of CONSONANT in the inpt: 21 \n"
     ]
    }
   ],
   "source": [
    "inpt(\"abcdefghijklmnopqrstuvwxyz\")"
   ]
  },
  {
   "cell_type": "markdown",
   "id": "992fe96d",
   "metadata": {},
   "source": [
    "#### 7. Define a function that returns Factorial of a number."
   ]
  },
  {
   "cell_type": "code",
   "execution_count": 11,
   "id": "d2174f06",
   "metadata": {},
   "outputs": [],
   "source": [
    "def factorial(num):\n",
    "    if num==0:\n",
    "        return 1\n",
    "    else:\n",
    "        return num*factorial(num-1)"
   ]
  },
  {
   "cell_type": "code",
   "execution_count": 12,
   "id": "f9711e1f",
   "metadata": {},
   "outputs": [
    {
     "data": {
      "text/plain": [
       "5040"
      ]
     },
     "execution_count": 12,
     "metadata": {},
     "output_type": "execute_result"
    }
   ],
   "source": [
    "factorial(7)"
   ]
  },
  {
   "cell_type": "markdown",
   "id": "6dab749e",
   "metadata": {},
   "source": [
    "#### 8. Define a function that accepts radius and returns the area of a circle."
   ]
  },
  {
   "cell_type": "code",
   "execution_count": 13,
   "id": "4a06ccf3",
   "metadata": {},
   "outputs": [],
   "source": [
    "def area(r):\n",
    "    print(\"area of circle is:\",(22/7)*r*r)"
   ]
  },
  {
   "cell_type": "code",
   "execution_count": 15,
   "id": "d62101ed",
   "metadata": {},
   "outputs": [
    {
     "name": "stdout",
     "output_type": "stream",
     "text": [
      "area of circle is: 113.14285714285714\n"
     ]
    }
   ],
   "source": [
    "area(6)"
   ]
  },
  {
   "cell_type": "markdown",
   "id": "8b3e3d22",
   "metadata": {},
   "source": [
    "#### 9. Define a function that takes a number as a parameter and check the number is prime or not.\n"
   ]
  },
  {
   "cell_type": "code",
   "execution_count": 27,
   "id": "62c94f85",
   "metadata": {},
   "outputs": [
    {
     "data": {
      "text/plain": [
       "'83 is a prime number '"
      ]
     },
     "execution_count": 27,
     "metadata": {},
     "output_type": "execute_result"
    }
   ],
   "source": [
    "def prime(a):\n",
    "    if a%2==0 and a%3==0:\n",
    "        return \"{} is not a prime number \".format(a)\n",
    "    else:\n",
    "        return \"{} is a prime number \".format(a)\n",
    "prime(83)"
   ]
  },
  {
   "cell_type": "markdown",
   "id": "4e057575",
   "metadata": {},
   "source": [
    "#### 10. Mary wants to run a 25-mile marathon. When she attempts to sign up for the marathon, she notices the sign-up sheet doesn't directly state the marathon's length. Instead, the marathon's length is listed in small, different portions. Help Mary find out how long the marathon actually is.  So create a function that  Return True if the marathon is 25 miles long, otherwise, return False.                                                                                                                         \n",
    "Examples :-                                                                                                                     \n",
    "marathon_distance([1, 2, 3, 4]) ➞ False                                                                                       \n",
    "marathon_distance([1, 9, 5, 8, 2]) ➞ True                                                                                      \n",
    "marathon_distance([6, 15, 4]) ➞ True                                                                                         "
   ]
  },
  {
   "cell_type": "code",
   "execution_count": 75,
   "id": "e14dcbf6",
   "metadata": {},
   "outputs": [],
   "source": [
    "def mart(x):\n",
    "    count=0\n",
    "    for y in x:\n",
    "        count+=y\n",
    "    if count == 25:\n",
    "        print(\"True\")\n",
    "    else:\n",
    "        print(\"False\")"
   ]
  },
  {
   "cell_type": "code",
   "execution_count": 76,
   "id": "a0b52407",
   "metadata": {},
   "outputs": [
    {
     "name": "stdout",
     "output_type": "stream",
     "text": [
      "False\n"
     ]
    }
   ],
   "source": [
    "mart([1,2,3,4])"
   ]
  },
  {
   "cell_type": "code",
   "execution_count": 77,
   "id": "e4c16f83",
   "metadata": {},
   "outputs": [
    {
     "name": "stdout",
     "output_type": "stream",
     "text": [
      "True\n"
     ]
    }
   ],
   "source": [
    "mart([1,9,5,8,2])"
   ]
  },
  {
   "cell_type": "code",
   "execution_count": 78,
   "id": "ead99a52",
   "metadata": {},
   "outputs": [
    {
     "name": "stdout",
     "output_type": "stream",
     "text": [
      "True\n"
     ]
    }
   ],
   "source": [
    "mart([6,15,4])"
   ]
  },
  {
   "cell_type": "markdown",
   "id": "7b6486a5",
   "metadata": {},
   "source": [
    "#### 11. Create a function that takes a number and returns True if the number is automorphic, False if it isn't.\n",
    "#### ** number n is automorphic if n^2 ends in n."
   ]
  },
  {
   "cell_type": "code",
   "execution_count": 82,
   "id": "bf4487d7",
   "metadata": {},
   "outputs": [],
   "source": [
    "def auto(n):\n",
    "    a=n**2\n",
    "    b=str(a)\n",
    "    if int(b[-1])==n:\n",
    "        return True\n",
    "    else:\n",
    "        return False"
   ]
  },
  {
   "cell_type": "code",
   "execution_count": 84,
   "id": "4a906a70",
   "metadata": {},
   "outputs": [
    {
     "data": {
      "text/plain": [
       "True"
      ]
     },
     "execution_count": 84,
     "metadata": {},
     "output_type": "execute_result"
    }
   ],
   "source": [
    "auto(1)"
   ]
  },
  {
   "cell_type": "markdown",
   "id": "37b86f13",
   "metadata": {},
   "source": [
    "#### 12. Create a function, that will take given a, b, c, and do the following:\n",
    "#### Add a to itself b times and Check if the result is divisible by c. and return true if it is divisible by c or false\n",
    "### Example:\n",
    " A=1                                                                                                                           \n",
    " B=2                                                                                                                           \n",
    " C=2                                                                                                                           \n",
    " So output is True because 1+1=2 and 2/2=0"
   ]
  },
  {
   "cell_type": "code",
   "execution_count": 8,
   "id": "814c69b7",
   "metadata": {},
   "outputs": [],
   "source": [
    "def fun(a,b,c):\n",
    "    total=0\n",
    "    for i in range(b):\n",
    "        total=a+total\n",
    "    if total%c==0:\n",
    "        return True\n",
    "    else:\n",
    "        return False"
   ]
  },
  {
   "cell_type": "code",
   "execution_count": 10,
   "id": "80eb01ff",
   "metadata": {},
   "outputs": [
    {
     "data": {
      "text/plain": [
       "True"
      ]
     },
     "execution_count": 10,
     "metadata": {},
     "output_type": "execute_result"
    }
   ],
   "source": [
    "fun(1,2,2)"
   ]
  },
  {
   "cell_type": "markdown",
   "id": "016e2100",
   "metadata": {},
   "source": [
    "#### 13) Create a function that changes specific words into emoticons.\n",
    "#### Given a sentence as a string, replace the words smile, grin, sad and mad with their corresponding emoticons.\n",
    "word emoticon                                                                                                                  \n",
    "smile :D                                                                                                                       \n",
    "grin :)                                                                                                                        \n",
    "sad :(                                                                                                                         \n",
    "mad :P  \n",
    "#### Example:                                                                                                                                                                                                          \n",
    "functionname(\"Make me smile\") ➞ \"Make me :D\"                                                                                  \n",
    "functionname (\"Make me grin\") ➞ \"Make me :)\"                                                                                  \n",
    "functionname (\"Make me sad\") ➞ \"Make me :(\"                                         \n"
   ]
  },
  {
   "cell_type": "code",
   "execution_count": 6,
   "id": "60291fd2",
   "metadata": {},
   "outputs": [],
   "source": [
    "def emoticons(x):\n",
    "    s=x.split()\n",
    "    for y in range(len(s)):\n",
    "        if s[y]==\"smile\":\n",
    "            s[y]=\" :D \"\n",
    "        elif s[y]==\"grin\":\n",
    "            s[y]=\" :)\"\n",
    "        elif s[y]==\"sad\":\n",
    "            s[y]=\" :(\"\n",
    "        elif s[y]==\"mad\":\n",
    "            s[y]=\":p\"\n",
    "    return \" \".join(s)"
   ]
  },
  {
   "cell_type": "code",
   "execution_count": 7,
   "id": "01683c28",
   "metadata": {},
   "outputs": [
    {
     "data": {
      "text/plain": [
       "'i am :p'"
      ]
     },
     "execution_count": 7,
     "metadata": {},
     "output_type": "execute_result"
    }
   ],
   "source": [
    "emoticons(\"i am mad\")"
   ]
  },
  {
   "cell_type": "markdown",
   "id": "fc5529db",
   "metadata": {},
   "source": [
    "#### 14. Write a Python program to square and cube every number in a given list of integers using Lambda"
   ]
  },
  {
   "cell_type": "code",
   "execution_count": 89,
   "id": "9eed241f",
   "metadata": {},
   "outputs": [],
   "source": [
    "def f1(list1):\n",
    "    x=list(map(lambda x:x**2,list1))\n",
    "    y=list(map(lambda y:y**3,list1))\n",
    "    print(\"Squares : {}\".format(x))\n",
    "    print(\"Cubes : {}\".format(y))"
   ]
  },
  {
   "cell_type": "code",
   "execution_count": 90,
   "id": "934396a6",
   "metadata": {},
   "outputs": [
    {
     "name": "stdout",
     "output_type": "stream",
     "text": [
      "Squares : [1, 4, 9, 16, 25, 36, 49]\n",
      "Cubes : [1, 8, 27, 64, 125, 216, 343]\n"
     ]
    }
   ],
   "source": [
    "f1([1,2,3,4,5,6,7])"
   ]
  },
  {
   "cell_type": "markdown",
   "id": "7533e02d",
   "metadata": {},
   "source": [
    "#### 15.Write a Python program to check whether a given string is number or not using Lambda"
   ]
  },
  {
   "cell_type": "code",
   "execution_count": 85,
   "id": "b05cbff0",
   "metadata": {},
   "outputs": [
    {
     "data": {
      "text/plain": [
       "True"
      ]
     },
     "execution_count": 85,
     "metadata": {},
     "output_type": "execute_result"
    }
   ],
   "source": [
    "a=lambda s:s.isdigit()\n",
    "a(\"5859654\")"
   ]
  }
 ],
 "metadata": {
  "kernelspec": {
   "display_name": "Python 3 (ipykernel)",
   "language": "python",
   "name": "python3"
  },
  "language_info": {
   "codemirror_mode": {
    "name": "ipython",
    "version": 3
   },
   "file_extension": ".py",
   "mimetype": "text/x-python",
   "name": "python",
   "nbconvert_exporter": "python",
   "pygments_lexer": "ipython3",
   "version": "3.9.13"
  }
 },
 "nbformat": 4,
 "nbformat_minor": 5
}
