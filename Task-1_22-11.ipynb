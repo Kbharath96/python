{
 "cells": [
  {
   "cell_type": "markdown",
   "id": "c11c0f13",
   "metadata": {},
   "source": [
    "# write a python program to convert a string in lower case"
   ]
  },
  {
   "cell_type": "code",
   "execution_count": 1,
   "id": "0c4d0fde",
   "metadata": {},
   "outputs": [
    {
     "name": "stdout",
     "output_type": "stream",
     "text": [
      "KUNSOTH BHARATH\n"
     ]
    },
    {
     "data": {
      "text/plain": [
       "'kunsoth bharath'"
      ]
     },
     "execution_count": 1,
     "metadata": {},
     "output_type": "execute_result"
    }
   ],
   "source": [
    "x=input()\n",
    "x.lower()"
   ]
  },
  {
   "cell_type": "markdown",
   "id": "9a547d6c",
   "metadata": {},
   "source": [
    "# write a python program to convert only odd indexed charaters to lower case\n",
    "Eg PYTHON"
   ]
  },
  {
   "cell_type": "code",
   "execution_count": 23,
   "id": "e29573f0",
   "metadata": {},
   "outputs": [
    {
     "name": "stdout",
     "output_type": "stream",
     "text": [
      "PYTHON\n",
      "PyThOn\n"
     ]
    }
   ],
   "source": [
    "x=input()\n",
    "result=\"\"\n",
    "for z in range (len(x)):\n",
    "    if z%2==0:\n",
    "        result=result+x[z]\n",
    "    else:\n",
    "        result=result+(x[z]).lower()\n",
    "print(result)"
   ]
  },
  {
   "cell_type": "markdown",
   "id": "d5a70592",
   "metadata": {},
   "source": [
    "# Write a python program to convert only even indexed characters to lower case"
   ]
  },
  {
   "cell_type": "code",
   "execution_count": 28,
   "id": "cd4a4a99",
   "metadata": {},
   "outputs": [
    {
     "name": "stdout",
     "output_type": "stream",
     "text": [
      "PYTHON\n",
      "pYtHoN\n"
     ]
    }
   ],
   "source": [
    "a=input()\n",
    "b=\"\"\n",
    "for c in range(len(a)):\n",
    "    if c%2!=0:\n",
    "        b=b+a[c]\n",
    "    else :\n",
    "        b=b+(a[c]).lower()\n",
    "print(b)"
   ]
  },
  {
   "cell_type": "markdown",
   "id": "e8290db5",
   "metadata": {},
   "source": [
    "# Write a python program to convert only odd indexed characters to upper case\n",
    "  Ex : python                                                                                                        \n",
    "  o/p: pYtHoN"
   ]
  },
  {
   "cell_type": "code",
   "execution_count": 33,
   "id": "87bc767c",
   "metadata": {},
   "outputs": [
    {
     "name": "stdout",
     "output_type": "stream",
     "text": [
      "python\n",
      "pYtHoN\n"
     ]
    }
   ],
   "source": [
    "a=input()\n",
    "b=\"\"\n",
    "for c in range(len(a)):\n",
    "    if c%2!=0:\n",
    "        b=b+(a[c]).upper()\n",
    "    else:\n",
    "        b=b+a[c]\n",
    "print(b)"
   ]
  },
  {
   "cell_type": "markdown",
   "id": "978b02a4",
   "metadata": {},
   "source": [
    "# Write a python program to convert only even indexed characters to upper case \n",
    "ex: python                                                                                                         \n",
    "o/p : PyThOn"
   ]
  },
  {
   "cell_type": "code",
   "execution_count": 37,
   "id": "6cc6c8ca",
   "metadata": {},
   "outputs": [
    {
     "name": "stdout",
     "output_type": "stream",
     "text": [
      "python\n",
      "PyThOn\n"
     ]
    }
   ],
   "source": [
    "x=input()\n",
    "y=\"\"\n",
    "for z in range(len(x)):\n",
    "    if z%2!=0:\n",
    "        y=y+x[z]\n",
    "    else:\n",
    "        y=y+(x[z]).upper()\n",
    "print(y)"
   ]
  },
  {
   "cell_type": "markdown",
   "id": "feb847ca",
   "metadata": {},
   "source": [
    "# Write a python program where you have different variable which contains your name,sex,age, phone no ,fathers name and mothers name.And by using this variable create a variable named bio-data where you will use all this variable\n",
    "Ex:-print(bio-data)\n"
   ]
  },
  {
   "cell_type": "code",
   "execution_count": 38,
   "id": "f2e47fd8",
   "metadata": {},
   "outputs": [
    {
     "name": "stdout",
     "output_type": "stream",
     "text": [
      "Bharath Kunsoth\n",
      "26\n",
      "9010431027\n",
      "Sakriya\n",
      "Anuradha\n"
     ]
    },
    {
     "data": {
      "text/plain": [
       "'my name is Bharath Kunsoth, my age is 26, my phone no is 9010431027,my father isSakriya, and my mother name Anuradha '"
      ]
     },
     "execution_count": 38,
     "metadata": {},
     "output_type": "execute_result"
    }
   ],
   "source": [
    "name=input()\n",
    "age=int(input())\n",
    "ph=int(input())\n",
    "father=input()\n",
    "mother=input()\n",
    "bio_data=\"my name is {}, my age is {}, my phone no is {},my father is{}, and my mother name {} \"\n",
    "bio_data.format(name,age,ph,father,mother)"
   ]
  },
  {
   "cell_type": "markdown",
   "id": "da942a5f",
   "metadata": {},
   "source": [
    "# Write a python program to count how many times “@” occurred "
   ]
  },
  {
   "cell_type": "code",
   "execution_count": 42,
   "id": "126aa021",
   "metadata": {},
   "outputs": [
    {
     "data": {
      "text/plain": [
       "5"
      ]
     },
     "execution_count": 42,
     "metadata": {},
     "output_type": "execute_result"
    }
   ],
   "source": [
    "text=\"python@java@c+@Bharath@Innomatics@\"\n",
    "text.count(\"@\")"
   ]
  },
  {
   "cell_type": "markdown",
   "id": "2a70bcb6",
   "metadata": {},
   "source": [
    "# Write a python program to get only names from the string \n",
    " input: \"name1.@gmail.com,name2.@gmail.com,name3.@gmail.com\",                                                                            \n",
    " o/p - name1,name2,name3"
   ]
  },
  {
   "cell_type": "code",
   "execution_count": 62,
   "id": "9373df7e",
   "metadata": {},
   "outputs": [
    {
     "data": {
      "text/plain": [
       "'name1,name2,name3'"
      ]
     },
     "execution_count": 62,
     "metadata": {},
     "output_type": "execute_result"
    }
   ],
   "source": [
    "a=\"name1.@gmail.com,name2.@gmail.com,name3.@gmail.com\"\n",
    "b=a.split(\".@gmail.com\")\n",
    "\"\".join(b)"
   ]
  },
  {
   "cell_type": "markdown",
   "id": "beb9b7b1",
   "metadata": {},
   "source": [
    "# Given a string of odd length greater that 9, return a new string made of the middle three characters of a given String\n",
    "Ex:- \"mynameissan\"                                                                                                            \n",
    "op:   “mei”"
   ]
  },
  {
   "cell_type": "code",
   "execution_count": 54,
   "id": "0f699860",
   "metadata": {},
   "outputs": [
    {
     "data": {
      "text/plain": [
       "'mei'"
      ]
     },
     "execution_count": 54,
     "metadata": {},
     "output_type": "execute_result"
    }
   ],
   "source": [
    "name=\"mynameissan\"\n",
    "name[4:7]"
   ]
  },
  {
   "cell_type": "markdown",
   "id": "a679f3ce",
   "metadata": {},
   "source": [
    "#  Write a python program to insert a string2 in the middle of  string2\n",
    " string1 : \"myn\"                                                                                                               \n",
    " string2 : \"sa\"                                                                                                                 \n",
    " o/p - \"msayn\"\n",
    "\n"
   ]
  },
  {
   "cell_type": "code",
   "execution_count": 57,
   "id": "e02ec0ba",
   "metadata": {},
   "outputs": [],
   "source": [
    "name1=\"myn\"\n",
    "name2=\"sa\""
   ]
  },
  {
   "cell_type": "code",
   "execution_count": 66,
   "id": "6947b50b",
   "metadata": {},
   "outputs": [
    {
     "name": "stdout",
     "output_type": "stream",
     "text": [
      "msayn\n"
     ]
    }
   ],
   "source": [
    "x=(name1[0])\n",
    "z=(name1[1: ])\n",
    "print(x+name2+z)"
   ]
  },
  {
   "cell_type": "markdown",
   "id": "5131f345",
   "metadata": {},
   "source": [
    "# Write a program to remove vowels from the entire alphabets\n",
    "ex : \"abcdefghijklmnopqrstuvwxyz\""
   ]
  },
  {
   "cell_type": "code",
   "execution_count": 8,
   "id": "2d063c8e",
   "metadata": {},
   "outputs": [
    {
     "name": "stdout",
     "output_type": "stream",
     "text": [
      " bcdfghjklmnpqrstvwxyz\n"
     ]
    }
   ],
   "source": [
    "v1 = \"abcdefghijklmnopqrstuvwxyz\"\n",
    "vowels=[\"a\",\"e\",\"i\",\"o\",\"u\"]\n",
    "result=\" \"\n",
    "for i in range (len(v1)):\n",
    "    if v1[i] not in vowels:\n",
    "        result=result+v1[i]\n",
    "print(result)"
   ]
  },
  {
   "cell_type": "code",
   "execution_count": null,
   "id": "9168f3bc",
   "metadata": {},
   "outputs": [],
   "source": []
  }
 ],
 "metadata": {
  "kernelspec": {
   "display_name": "Python 3 (ipykernel)",
   "language": "python",
   "name": "python3"
  },
  "language_info": {
   "codemirror_mode": {
    "name": "ipython",
    "version": 3
   },
   "file_extension": ".py",
   "mimetype": "text/x-python",
   "name": "python",
   "nbconvert_exporter": "python",
   "pygments_lexer": "ipython3",
   "version": "3.9.13"
  }
 },
 "nbformat": 4,
 "nbformat_minor": 5
}
